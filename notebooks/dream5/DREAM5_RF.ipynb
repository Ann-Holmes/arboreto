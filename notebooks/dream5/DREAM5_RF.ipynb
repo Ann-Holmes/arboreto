{
 "cells": [
  {
   "cell_type": "markdown",
   "metadata": {},
   "source": [
    "![](../../img/arboretum.png)\n",
    "\n",
    "# DREAM5 : scikit-learn random forest (RF)"
   ]
  },
  {
   "cell_type": "code",
   "execution_count": 1,
   "metadata": {},
   "outputs": [],
   "source": [
    "import os\n",
    "import sys\n",
    "sys.path.append('../../')\n",
    "\n",
    "from arboretum.core import *\n",
    "from arboretum.utils import *"
   ]
  },
  {
   "cell_type": "markdown",
   "metadata": {},
   "source": [
    "## Data paths"
   ]
  },
  {
   "cell_type": "code",
   "execution_count": 2,
   "metadata": {},
   "outputs": [],
   "source": [
    "wd = os.getcwd().split('arboretum')[0] + 'arboretum/resources/dream5/'\n",
    "\n",
    "net1_ex_path = wd + 'net1/net1_expression_data.tsv'\n",
    "net1_tf_path = wd + 'net1/net1_transcription_factors.tsv'\n",
    "\n",
    "net3_ex_path = wd + 'net3/net3_expression_data.tsv'\n",
    "net3_tf_path = wd + 'net3/net3_transcription_factors.tsv'\n",
    "\n",
    "net4_ex_path = wd + 'net4/net4_expression_data.tsv'\n",
    "net4_tf_path = wd + 'net4/net4_transcription_factors.tsv'"
   ]
  },
  {
   "cell_type": "code",
   "execution_count": null,
   "metadata": {},
   "outputs": [],
   "source": []
  }
 ],
 "metadata": {
  "kernelspec": {
   "display_name": "Python [default]",
   "language": "python",
   "name": "python3"
  },
  "language_info": {
   "codemirror_mode": {
    "name": "ipython",
    "version": 3
   },
   "file_extension": ".py",
   "mimetype": "text/x-python",
   "name": "python",
   "nbconvert_exporter": "python",
   "pygments_lexer": "ipython3",
   "version": "3.5.2"
  }
 },
 "nbformat": 4,
 "nbformat_minor": 2
}
