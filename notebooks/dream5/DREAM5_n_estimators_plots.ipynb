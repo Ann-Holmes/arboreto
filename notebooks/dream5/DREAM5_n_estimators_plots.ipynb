{
 "cells": [
  {
   "cell_type": "markdown",
   "metadata": {},
   "source": [
    "# Dream5 n_estimators plots\n"
   ]
  },
  {
   "cell_type": "code",
   "execution_count": 5,
   "metadata": {},
   "outputs": [],
   "source": [
    "import os\n",
    "import sys\n",
    "sys.path.append('../../')\n",
    "\n",
    "from arboreto.algo import *\n",
    "from arboreto.core import *\n",
    "from arboreto.utils import *\n",
    "\n",
    "from sklearn import preprocessing\n",
    "\n",
    "import pandas as pd\n",
    "import seaborn as sns\n",
    "import matplotlib.pyplot as plt"
   ]
  },
  {
   "cell_type": "markdown",
   "metadata": {},
   "source": [
    "## Data paths"
   ]
  },
  {
   "cell_type": "code",
   "execution_count": 6,
   "metadata": {},
   "outputs": [],
   "source": [
    "wd = os.getcwd().split('arboreto')[0] + 'arboreto/resources/dream5/'\n",
    "\n",
    "net1_ex_path = wd + 'net1/net1_expression_data.tsv'\n",
    "net1_tf_path = wd + 'net1/net1_transcription_factors.tsv'\n",
    "\n",
    "net3_ex_path = wd + 'net3/net3_expression_data.tsv'\n",
    "net3_tf_path = wd + 'net3/net3_transcription_factors.tsv'\n",
    "\n",
    "net4_ex_path = wd + 'net4/net4_expression_data.tsv'\n",
    "net4_tf_path = wd + 'net4/net4_transcription_factors.tsv'"
   ]
  },
  {
   "cell_type": "code",
   "execution_count": 7,
   "metadata": {},
   "outputs": [
    {
     "data": {
      "text/plain": [
       "\u001b[0;31mSignature:\u001b[0m \u001b[0mgrnboost2\u001b[0m\u001b[0;34m(\u001b[0m\u001b[0mexpression_data\u001b[0m\u001b[0;34m,\u001b[0m \u001b[0mgene_names\u001b[0m\u001b[0;34m=\u001b[0m\u001b[0;32mNone\u001b[0m\u001b[0;34m,\u001b[0m \u001b[0mtf_names\u001b[0m\u001b[0;34m=\u001b[0m\u001b[0;34m'all'\u001b[0m\u001b[0;34m,\u001b[0m \u001b[0mclient_or_address\u001b[0m\u001b[0;34m=\u001b[0m\u001b[0;34m'local'\u001b[0m\u001b[0;34m,\u001b[0m \u001b[0mearly_stop_window_length\u001b[0m\u001b[0;34m=\u001b[0m\u001b[0;36m25\u001b[0m\u001b[0;34m,\u001b[0m \u001b[0mlimit\u001b[0m\u001b[0;34m=\u001b[0m\u001b[0;32mNone\u001b[0m\u001b[0;34m,\u001b[0m \u001b[0mseed\u001b[0m\u001b[0;34m=\u001b[0m\u001b[0;32mNone\u001b[0m\u001b[0;34m,\u001b[0m \u001b[0mverbose\u001b[0m\u001b[0;34m=\u001b[0m\u001b[0;32mFalse\u001b[0m\u001b[0;34m)\u001b[0m\u001b[0;34m\u001b[0m\u001b[0m\n",
       "\u001b[0;31mDocstring:\u001b[0m\n",
       "Launch arboreto with [GRNBoost2] profile.\n",
       "\n",
       ":param expression_data: one of:\n",
       "       * a pandas DataFrame (rows=observations, columns=genes)\n",
       "       * a dense 2D numpy.ndarray\n",
       "       * a sparse scipy.sparse.csc_matrix\n",
       ":param gene_names: optional list of gene names (strings). Required when a (dense or sparse) matrix is passed as\n",
       "                   'expression_data' instead of a DataFrame.\n",
       ":param tf_names: optional list of transcription factors. If None or 'all', the list of gene_names will be used.\n",
       ":param client_or_address: one of:\n",
       "       * None or 'local': a new Client(LocalCluster()) will be used to perform the computation.\n",
       "       * string address: a new Client(address) will be used to perform the computation.\n",
       "       * a Client instance: the specified Client instance will be used to perform the computation.\n",
       ":param early_stop_window_length: early stop window length. Default 25.\n",
       ":param limit: optional number (int) of top regulatory links to return. Default None.\n",
       ":param seed: optional random seed for the regressors. Default None.\n",
       ":param verbose: print info.\n",
       ":return: a pandas DataFrame['TF', 'target', 'importance'] representing the inferred gene regulatory links.\n",
       "\u001b[0;31mFile:\u001b[0m      ~/work/batiskav/installs/anaconda3/lib/python3.5/site-packages/arboreto/algo.py\n",
       "\u001b[0;31mType:\u001b[0m      function\n"
      ]
     },
     "metadata": {},
     "output_type": "display_data"
    }
   ],
   "source": [
    "grnboost2?"
   ]
  },
  {
   "cell_type": "markdown",
   "metadata": {},
   "source": [
    "## Dask client"
   ]
  },
  {
   "cell_type": "code",
   "execution_count": 8,
   "metadata": {},
   "outputs": [],
   "source": [
    "from dask.distributed import Client, LocalCluster"
   ]
  },
  {
   "cell_type": "code",
   "execution_count": 9,
   "metadata": {},
   "outputs": [],
   "source": [
    "client = Client(LocalCluster())"
   ]
  },
  {
   "cell_type": "code",
   "execution_count": 10,
   "metadata": {},
   "outputs": [
    {
     "data": {
      "text/html": [
       "<table style=\"border: 2px solid white;\">\n",
       "<tr>\n",
       "<td style=\"vertical-align: top; border: 0px solid white\">\n",
       "<h3>Client</h3>\n",
       "<ul>\n",
       "  <li><b>Scheduler: </b>tcp://127.0.0.1:40127\n",
       "  <li><b>Dashboard: </b><a href='http://127.0.0.1:8787/status' target='_blank'>http://127.0.0.1:8787/status</a>\n",
       "</ul>\n",
       "</td>\n",
       "<td style=\"vertical-align: top; border: 0px solid white\">\n",
       "<h3>Cluster</h3>\n",
       "<ul>\n",
       "  <li><b>Workers: </b>88</li>\n",
       "  <li><b>Cores: </b>88</li>\n",
       "  <li><b>Memory: </b>135.07 GB</li>\n",
       "</ul>\n",
       "</td>\n",
       "</tr>\n",
       "</table>"
      ],
      "text/plain": [
       "<Client: scheduler='tcp://127.0.0.1:40127' processes=88 cores=88>"
      ]
     },
     "execution_count": 10,
     "metadata": {},
     "output_type": "execute_result"
    }
   ],
   "source": [
    "client"
   ]
  },
  {
   "cell_type": "markdown",
   "metadata": {},
   "source": [
    "Use port forwarding to view the dashboard `$ ssh -L 8000:localhost:8787 nostromo`"
   ]
  },
  {
   "cell_type": "code",
   "execution_count": 6,
   "metadata": {},
   "outputs": [],
   "source": [
    "#client.close()"
   ]
  },
  {
   "cell_type": "markdown",
   "metadata": {},
   "source": [
    "## Infer networks (with meta)"
   ]
  },
  {
   "cell_type": "code",
   "execution_count": 15,
   "metadata": {},
   "outputs": [],
   "source": [
    "def infer_network_and_meta(ex_path, tf_path, client):\n",
    "    ex_matrix = pd.read_csv(ex_path, sep='\\t')\n",
    "    gene_names = ex_matrix.columns\n",
    "    tf_names = load_tf_names(tf_path)\n",
    "    \n",
    "    network_graph, meta_graph = create_graph(ex_matrix.as_matrix(),\n",
    "                                             gene_names,\n",
    "                                             tf_names,\n",
    "                                             \"GBM\",\n",
    "                                             SGBM_KWARGS,\n",
    "                                             client=client, # broadcast!\n",
    "                                             early_stop_window_length=25,\n",
    "                                             include_meta=True)\n",
    "    # Good!\n",
    "    a, b = client.persist([network_graph, meta_graph])\n",
    "    network_df = a.compute(sync=True)\n",
    "    meta_df = b.compute(sync=True)\n",
    "    \n",
    "    return network_df, meta_df"
   ]
  },
  {
   "cell_type": "code",
   "execution_count": 16,
   "metadata": {},
   "outputs": [
    {
     "name": "stdout",
     "output_type": "stream",
     "text": [
      "CPU times: user 37.5 s, sys: 10.9 s, total: 48.4 s\n",
      "Wall time: 54.7 s\n"
     ]
    }
   ],
   "source": [
    "%%time\n",
    "net1, meta1 = infer_network_and_meta(net1_ex_path, net1_tf_path, client)"
   ]
  },
  {
   "cell_type": "code",
   "execution_count": 17,
   "metadata": {},
   "outputs": [
    {
     "name": "stdout",
     "output_type": "stream",
     "text": [
      "CPU times: user 2min 29s, sys: 55.7 s, total: 3min 25s\n",
      "Wall time: 4min\n"
     ]
    }
   ],
   "source": [
    "%%time\n",
    "net3, meta3 = infer_network_and_meta(net3_ex_path, net3_tf_path, client)"
   ]
  },
  {
   "cell_type": "code",
   "execution_count": 18,
   "metadata": {},
   "outputs": [
    {
     "name": "stdout",
     "output_type": "stream",
     "text": [
      "CPU times: user 2min 35s, sys: 49.8 s, total: 3min 25s\n",
      "Wall time: 4min\n"
     ]
    }
   ],
   "source": [
    "%%time\n",
    "net4, meta4 = infer_network_and_meta(net4_ex_path, net4_tf_path, client)"
   ]
  },
  {
   "cell_type": "code",
   "execution_count": null,
   "metadata": {},
   "outputs": [],
   "source": []
  },
  {
   "cell_type": "code",
   "execution_count": 27,
   "metadata": {},
   "outputs": [],
   "source": [
    "from seaborn import kdeplot"
   ]
  },
  {
   "cell_type": "code",
   "execution_count": 63,
   "metadata": {},
   "outputs": [
    {
     "name": "stderr",
     "output_type": "stream",
     "text": [
      "/home/tmo/work/batiskav/installs/anaconda3/lib/python3.5/site-packages/statsmodels/nonparametric/kdetools.py:20: VisibleDeprecationWarning: using a non-integer number instead of an integer will result in an error in the future\n",
      "  y = X[:m/2+1] + np.r_[0,X[m/2+1:],0]*1j\n"
     ]
    },
    {
     "data": {
      "image/png": "[encoded data removed]",
      "text/plain": [
       "<Figure size 1152x288 with 3 Axes>"
      ]
     },
     "metadata": {},
     "output_type": "display_data"
    }
   ],
   "source": [
    "f, ax = plt.subplots(ncols=3, figsize=(16,4))\n",
    "\n",
    "ax1 = sns.kdeplot(meta1.n_estimators, shade=True, ax=ax[0])\n",
    "ax2 = sns.kdeplot(meta3.n_estimators, shade=True, ax=ax[1])\n",
    "ax3 = sns.kdeplot(meta4.n_estimators, shade=True, ax=ax[2])\n",
    "\n",
    "plt.savefig('dream5_n_estimators.svg')\n",
    "plt.show()"
   ]
  },
  {
   "cell_type": "code",
   "execution_count": null,
   "metadata": {},
   "outputs": [],
   "source": []
  }
 ],
 "metadata": {
  "kernelspec": {
   "display_name": "Python [default]",
   "language": "python",
   "name": "python3"
  },
  "language_info": {
   "codemirror_mode": {
    "name": "ipython",
    "version": 3
   },
   "file_extension": ".py",
   "mimetype": "text/x-python",
   "name": "python",
   "nbconvert_exporter": "python",
   "pygments_lexer": "ipython3",
   "version": "3.5.5"
  }
 },
 "nbformat": 4,
 "nbformat_minor": 2
}
